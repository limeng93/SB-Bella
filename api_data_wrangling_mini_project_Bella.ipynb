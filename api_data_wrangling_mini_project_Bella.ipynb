{
 "cells": [
  {
   "cell_type": "markdown",
   "metadata": {},
   "source": [
    "This exercise will require you to pull some data from https://data.nasdaq.com/ (formerly Quandl API)."
   ]
  },
  {
   "cell_type": "markdown",
   "metadata": {},
   "source": [
    "As a first step, you will need to register a free account on the https://data.nasdaq.com/ website."
   ]
  },
  {
   "cell_type": "markdown",
   "metadata": {},
   "source": [
    "After you register, you will be provided with a unique API key, that you should store:\n",
    "\n",
    "*Note*: Use a `.env` file and put your key in there and `python-dotenv` to access it in this notebook. \n",
    "\n",
    "The code below uses a key that was used when generating this project but has since been deleted. Never submit your keys to source control. There is a `.env-example` file in this repository to illusrtate what you need. Copy that to a file called `.env` and use your own api key in that `.env` file. Make sure you also have a `.gitignore` file with a line for `.env` added to it. \n",
    "\n",
    "The standard Python gitignore is [here](https://github.com/github/gitignore/blob/master/Python.gitignore) you can just copy that. "
   ]
  },
  {
   "cell_type": "code",
   "execution_count": 9,
   "metadata": {},
   "outputs": [
    {
     "name": "stdout",
     "output_type": "stream",
     "text": [
      "ydwyTwyUZvhXkLXqw888\n"
     ]
    }
   ],
   "source": [
    "# get api key from your .env file\n",
    "import os\n",
    "from dotenv import load_dotenv\n",
    "\n",
    "load_dotenv(\"env.env\")\n",
    "API_KEY = os.getenv('NASDAQ_API_KEY')\n",
    "\n",
    "print(API_KEY)"
   ]
  },
  {
   "cell_type": "markdown",
   "metadata": {},
   "source": [
    "Nasdaq Data has a large number of data sources, but, unfortunately, most of them require a Premium subscription. Still, there are also a good number of free datasets."
   ]
  },
  {
   "cell_type": "markdown",
   "metadata": {},
   "source": [
    "For this mini project, we will focus on equities data from the Frankfurt Stock Exhange (FSE), which is available for free. We'll try and analyze the stock prices of a company called Carl Zeiss Meditec, which manufactures tools for eye examinations, as well as medical lasers for laser eye surgery: https://www.zeiss.com/meditec/int/home.html. The company is listed under the stock ticker AFX_X."
   ]
  },
  {
   "cell_type": "markdown",
   "metadata": {},
   "source": [
    "You can find the detailed Nasdaq Data API instructions here: https://docs.data.nasdaq.com/docs/in-depth-usage"
   ]
  },
  {
   "cell_type": "markdown",
   "metadata": {},
   "source": [
    "While there is a dedicated Python package for connecting to the Nasdaq API, we would prefer that you use the *requests* package, which can be easily downloaded using *pip* or *conda*. You can find the documentation for the package here: http://docs.python-requests.org/en/master/ "
   ]
  },
  {
   "cell_type": "markdown",
   "metadata": {},
   "source": [
    "Finally, apart from the *requests* package, you are encouraged to not use any third party Python packages, such as *pandas*, and instead focus on what's available in the Python Standard Library (the *collections* module might come in handy: https://pymotw.com/3/collections/).\n",
    "Also, since you won't have access to DataFrames, you are encouraged to us Python's native data structures - preferably dictionaries, though some questions can also be answered using lists.\n",
    "You can read more on these data structures here: https://docs.python.org/3/tutorial/datastructures.html"
   ]
  },
  {
   "cell_type": "markdown",
   "metadata": {},
   "source": [
    "Keep in mind that the JSON responses you will be getting from the API map almost one-to-one to Python's dictionaries. Unfortunately, they can be very nested, so make sure you read up on indexing dictionaries in the documentation provided above."
   ]
  },
  {
   "cell_type": "code",
   "execution_count": 10,
   "metadata": {},
   "outputs": [],
   "source": [
    "# First, import the relevant modules\n",
    "\n",
    "import requests\n",
    "import json"
   ]
  },
  {
   "cell_type": "markdown",
   "metadata": {},
   "source": [
    "Note: API's can change a bit with each version, for this exercise it is reccomended to use the nasdaq api at `https://data.nasdaq.com/api/v3/`. This is the same api as what used to be quandl so `https://www.quandl.com/api/v3/` should work too.\n",
    "\n",
    "Hint: We are looking for the `AFX_X` data on the `datasets/FSE/` dataset."
   ]
  },
  {
   "cell_type": "code",
   "execution_count": 11,
   "metadata": {},
   "outputs": [],
   "source": [
    "# Now, call the Nasdaq API and pull out a small sample of the data (only one day) to get a glimpse\n",
    "# into the JSON structure that will be returned\n",
    "\n",
    "url = \"https://data.nasdaq.com/api/v3/datasets/FSE/AFX_X.json\"\n",
    "params = {\n",
    "    \"start_date\": \"2020-12-01\",\n",
    "    \"end_date\": \"2020-12-01\",\n",
    "    \"api_key\": API_KEY\n",
    "}\n",
    "\n",
    "response = requests.get(url, params=params)"
   ]
  },
  {
   "cell_type": "code",
   "execution_count": 12,
   "metadata": {},
   "outputs": [
    {
     "name": "stdout",
     "output_type": "stream",
     "text": [
      "{\n",
      "  \"dataset\": {\n",
      "    \"id\": 10095370,\n",
      "    \"dataset_code\": \"AFX_X\",\n",
      "    \"database_code\": \"FSE\",\n",
      "    \"name\": \"Carl Zeiss Meditec (AFX_X)\",\n",
      "    \"description\": \"Stock Prices for Carl Zeiss Meditec (2020-11-02) from the Frankfurt Stock Exchange.<br><br>Trading System: Xetra<br><br>ISIN: DE0005313704\",\n",
      "    \"refreshed_at\": \"2020-12-01T14:48:09.907Z\",\n",
      "    \"newest_available_date\": \"2020-12-01\",\n",
      "    \"oldest_available_date\": \"2000-06-07\",\n",
      "    \"column_names\": [\n",
      "      \"Date\",\n",
      "      \"Open\",\n",
      "      \"High\",\n",
      "      \"Low\",\n",
      "      \"Close\",\n",
      "      \"Change\",\n",
      "      \"Traded Volume\",\n",
      "      \"Turnover\",\n",
      "      \"Last Price of the Day\",\n",
      "      \"Daily Traded Units\",\n",
      "      \"Daily Turnover\"\n",
      "    ],\n",
      "    \"frequency\": \"daily\",\n",
      "    \"type\": \"Time Series\",\n",
      "    \"premium\": false,\n",
      "    \"limit\": null,\n",
      "    \"transform\": null,\n",
      "    \"column_index\": null,\n",
      "    \"start_date\": \"2020-12-01\",\n",
      "    \"end_date\": \"2020-12-01\",\n",
      "    \"data\": [\n",
      "      [\n",
      "        \"2020-12-01\",\n",
      "        112.2,\n",
      "        112.2,\n",
      "        111.5,\n",
      "        112.0,\n",
      "        null,\n",
      "        51.0,\n",
      "        5703.0,\n",
      "        null,\n",
      "        null,\n",
      "        null\n",
      "      ]\n",
      "    ],\n",
      "    \"collapse\": null,\n",
      "    \"order\": null,\n",
      "    \"database_id\": 6129\n",
      "  }\n",
      "}\n",
      "Dataset ID: 10095370\n",
      "Dataset Title: Carl Zeiss Meditec (AFX_X)\n",
      "Number of Data Points: 1\n",
      "Data of 2020/12/01:\n",
      "['2020-12-01', 112.2, 112.2, 111.5, 112.0, None, 51.0, 5703.0, None, None, None]\n"
     ]
    }
   ],
   "source": [
    "# Inspect the JSON structure of the object you created, and take note of how nested it is,\n",
    "# as well as the overall structure\n",
    "\n",
    "if response.status_code == 200:\n",
    "    data = response.json()\n",
    "    \n",
    "    print(json.dumps(data, indent=2))\n",
    "    \n",
    "    print(\"Dataset ID:\", data['dataset']['id'])\n",
    "    print(\"Dataset Title:\", data['dataset']['name'])\n",
    "    \n",
    "    data_points = data['dataset']['data']\n",
    "    print(\"Number of Data Points:\", len(data_points))\n",
    "    \n",
    "    # Print the data point of 2020/12/01\n",
    "    print(\"Data of 2020/12/01:\")\n",
    "    print(data_points[0])"
   ]
  },
  {
   "cell_type": "markdown",
   "metadata": {},
   "source": [
    "These are your tasks for this mini project:\n",
    "\n",
    "1. Collect data from the Franfurt Stock Exchange, for the ticker AFX_X, for the whole year 2017 (keep in mind that the date format is YYYY-MM-DD).\n",
    "2. Convert the returned JSON object into a Python dictionary.\n",
    "3. Calculate what the highest and lowest opening prices were for the stock in this period.\n",
    "4. What was the largest change in any one day (based on High and Low price)?\n",
    "5. What was the largest change between any two days (based on Closing Price)?\n",
    "6. What was the average daily trading volume during this year?\n",
    "7. (Optional) What was the median trading volume during this year. (Note: you may need to implement your own function for calculating the median.)"
   ]
  },
  {
   "cell_type": "code",
   "execution_count": 14,
   "metadata": {},
   "outputs": [
    {
     "name": "stdout",
     "output_type": "stream",
     "text": [
      "Highest opening price: 53.11\n",
      "Lowest opening price: 34.0\n",
      "Largest change in any one day: 2.8100000000000023\n",
      "Largest change between any two days: 2.559999999999995\n",
      "Average daily trading volume: 89124.33725490196\n",
      "Median trading volume: 76286.0\n"
     ]
    }
   ],
   "source": [
    "#1. Collect data from the Franfurt Stock Exchange, for the ticker AFX_X, for the whole year 2017\n",
    "\n",
    "params2 = {\n",
    "    \"start_date\": \"2017-01-01\",\n",
    "    \"end_date\": \"2017-12-31\",\n",
    "    \"api_key\": API_KEY\n",
    "}\n",
    "\n",
    "response2 = requests.get(url, params=params2)\n",
    "\n",
    "if response2.status_code == 200:\n",
    "    \n",
    "    data = response2.json()\n",
    "    \n",
    "    #2. Convert the returned JSON object into a Python dictionary\n",
    "    data_dict = data['dataset']['data']\n",
    "    \n",
    "    #3. Calculate the highest and lowest opening prices\n",
    "    opening_prices = [record[1] for record in data_dict if record[1] is not None]\n",
    "    highest_opening_price = max(opening_prices) if opening_prices else None\n",
    "    lowest_opening_price = min(opening_prices)if opening_prices else None\n",
    "    \n",
    "    #4. Calculate the largest change in any one day \n",
    "    daily_changes = [record[2] - record[3] for record in data_dict if record[2] is not None and record[3] is not None]\n",
    "    largest_change_in_day = max(daily_changes) if daily_changes else None\n",
    "    \n",
    "    #5. Calculate the largest change between any two days\n",
    "    closing_prices = [record[4] for record in data_dict if record[4] is not None]\n",
    "    daily_changes_closing = [abs(closing_prices[i] - closing_prices[i-1]) for i in range(1, len(closing_prices))]\n",
    "    largest_change_between_days = max(daily_changes_closing) if daily_changes_closing else None\n",
    "    \n",
    "    \n",
    "    #6. Calculate the average daily trading volume\n",
    "    volumes = [record[6] for record in data_dict if record[6] is not None]\n",
    "    average_daily_volume = sum(volumes) / len(volumes) if volumes else None\n",
    "    \n",
    "    #7. Calculate the median trading volume\n",
    "    sorted_volumes = sorted(volumes)\n",
    "    n = len(sorted_volumes)\n",
    "    if n % 2 == 0:\n",
    "        median_volume = (sorted_volumes[n//2 - 1] + sorted_volumes[n//2]) / 2\n",
    "    else:\n",
    "        median_volume = sorted_volumes[n//2]\n",
    "    \n",
    "    # Print the results\n",
    "    print(\"Highest opening price:\", highest_opening_price)\n",
    "    print(\"Lowest opening price:\", lowest_opening_price)\n",
    "    print(\"Largest change in any one day:\", largest_change_in_day)\n",
    "    print(\"Largest change between any two days:\", largest_change_between_days)\n",
    "    print(\"Average daily trading volume:\", average_daily_volume)\n",
    "    print(\"Median trading volume:\", median_volume)"
   ]
  },
  {
   "cell_type": "code",
   "execution_count": null,
   "metadata": {},
   "outputs": [],
   "source": []
  }
 ],
 "metadata": {
  "interpreter": {
   "hash": "7635eb1b9d0fe97add78a7368b6b431c09bb8ad5c42e437d64abdd99821c31ae"
  },
  "kernelspec": {
   "display_name": "Python 3 (ipykernel)",
   "language": "python",
   "name": "python3"
  },
  "language_info": {
   "codemirror_mode": {
    "name": "ipython",
    "version": 3
   },
   "file_extension": ".py",
   "mimetype": "text/x-python",
   "name": "python",
   "nbconvert_exporter": "python",
   "pygments_lexer": "ipython3",
   "version": "3.11.7"
  }
 },
 "nbformat": 4,
 "nbformat_minor": 4
}
